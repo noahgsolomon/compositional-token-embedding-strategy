{
 "cells": [
  {
   "cell_type": "code",
   "execution_count": null,
   "metadata": {},
   "outputs": [],
   "source": [
    "import matplotlib.pyplot as plt\n",
    "\n",
    "# Read the losses from the files\n",
    "with open(\"training_loss_mapped.txt\", \"r\") as f:\n",
    "    losses_mapped = [float(line.strip()) for line in f]\n",
    "\n",
    "with open(\"training_loss_anew.txt\", \"r\") as f:\n",
    "    losses_anew = [float(line.strip()) for line in f]\n",
    "\n",
    "# Plot the losses\n",
    "plt.figure(figsize=(10, 6))\n",
    "plt.plot(losses_mapped, label='Tokens Mapped (Custom Embeddings)')\n",
    "plt.plot(losses_anew, label='Tokens Anew (Random Embeddings)')\n",
    "plt.xlabel('Training Iterations')\n",
    "plt.ylabel('Loss')\n",
    "plt.title('Training Loss Comparison')\n",
    "plt.legend()\n",
    "plt.grid(True)\n",
    "plt.show()\n"
   ]
  }
 ],
 "metadata": {
  "language_info": {
   "name": "python"
  }
 },
 "nbformat": 4,
 "nbformat_minor": 2
}
